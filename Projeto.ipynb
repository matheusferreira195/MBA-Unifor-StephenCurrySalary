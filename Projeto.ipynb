{
 "cells": [
  {
   "cell_type": "code",
   "execution_count": 1,
   "metadata": {},
   "outputs": [
    {
     "name": "stderr",
     "output_type": "stream",
     "text": [
      "\n",
      "Bad key \"text.kerning_factor\" on line 4 in\n",
      "C:\\Users\\matheus\\AppData\\Local\\Continuum\\anaconda3\\envs\\personal\\lib\\site-packages\\matplotlib\\mpl-data\\stylelib\\_classic_test_patch.mplstyle.\n",
      "You probably need to get an updated matplotlibrc file from\n",
      "https://github.com/matplotlib/matplotlib/blob/v3.1.3/matplotlibrc.template\n",
      "or from the matplotlib source distribution\n"
     ]
    }
   ],
   "source": [
    "import pandas as pd\n",
    "import numpy as np\n",
    "import seaborn as sn\n",
    "import matplotlib.pyplot as plt"
   ]
  },
  {
   "cell_type": "code",
   "execution_count": 2,
   "metadata": {},
   "outputs": [],
   "source": [
    "data = pd.read_csv('espn-nba-players-data/NBA_Players.csv',sep=',')"
   ]
  },
  {
   "cell_type": "code",
   "execution_count": 3,
   "metadata": {},
   "outputs": [],
   "source": [
    "data.columns = data.columns.str.replace(' ', '')"
   ]
  },
  {
   "cell_type": "code",
   "execution_count": 4,
   "metadata": {},
   "outputs": [
    {
     "data": {
      "text/plain": [
       "TEAM                object\n",
       "NAME                object\n",
       "EXPERIENCE           int64\n",
       "URL                 object\n",
       "POSITION            object\n",
       "AGE                 object\n",
       "HT                 float64\n",
       "WT                 float64\n",
       "COLLEGE             object\n",
       "SALARY              object\n",
       "PPG_LAST_SEASON    float64\n",
       "APG_LAST_SEASON    float64\n",
       "RPG_LAST_SEASON    float64\n",
       "PER_LAST_SEASON    float64\n",
       "PPG_CAREER         float64\n",
       "APG_CAREER         float64\n",
       "RGP_CAREER         float64\n",
       "GP                   int64\n",
       "MPG                float64\n",
       "FGM_FGA             object\n",
       "FGP                float64\n",
       "THM_THA             object\n",
       "THP                float64\n",
       "FTM_FTA             object\n",
       "FTP                float64\n",
       "APG                float64\n",
       "BLKPG              float64\n",
       "STLPG              float64\n",
       "TOPG               float64\n",
       "PPG                float64\n",
       "dtype: object"
      ]
     },
     "execution_count": 4,
     "metadata": {},
     "output_type": "execute_result"
    }
   ],
   "source": [
    "data.dtypes"
   ]
  },
  {
   "cell_type": "code",
   "execution_count": 5,
   "metadata": {},
   "outputs": [],
   "source": [
    "dados_preproc = data.loc[data['SALARY'] != 'Not signed']"
   ]
  },
  {
   "cell_type": "code",
   "execution_count": 6,
   "metadata": {},
   "outputs": [
    {
     "name": "stderr",
     "output_type": "stream",
     "text": [
      "<ipython-input-6-3e53da1dcb8d>:1: SettingWithCopyWarning: \n",
      "A value is trying to be set on a copy of a slice from a DataFrame.\n",
      "Try using .loc[row_indexer,col_indexer] = value instead\n",
      "\n",
      "See the caveats in the documentation: https://pandas.pydata.org/pandas-docs/stable/user_guide/indexing.html#returning-a-view-versus-a-copy\n",
      "  dados_preproc['SALARY'] = dados_preproc['SALARY'].apply(lambda x: float(x.replace(',','')))\n"
     ]
    }
   ],
   "source": [
    "dados_preproc['SALARY'] = dados_preproc['SALARY'].apply(lambda x: float(x.replace(',','')))"
   ]
  },
  {
   "cell_type": "code",
   "execution_count": 7,
   "metadata": {},
   "outputs": [
    {
     "data": {
      "text/plain": [
       "0       5193600.0\n",
       "2       1349464.0\n",
       "3       5169960.0\n",
       "6      31214295.0\n",
       "7      28928709.0\n",
       "          ...    \n",
       "545     1512601.0\n",
       "546     1378242.0\n",
       "547    14975000.0\n",
       "548     5250000.0\n",
       "549     3360000.0\n",
       "Name: SALARY, Length: 440, dtype: float64"
      ]
     },
     "execution_count": 7,
     "metadata": {},
     "output_type": "execute_result"
    }
   ],
   "source": [
    "dados_preproc['SALARY'] "
   ]
  },
  {
   "cell_type": "markdown",
   "metadata": {},
   "source": [
    "# Pergunta: O salário do Stephen Curry se justifica?"
   ]
  },
  {
   "cell_type": "markdown",
   "metadata": {},
   "source": [
    "### Critérios de avaliação (ou, definição de \"justo\" p/ análise):\n",
    " - Performance individual vs. Salário;\n",
    " - Performance do time vs. Salário;\n",
    " - Income c/ merchandising vs. Salário;"
   ]
  },
  {
   "cell_type": "code",
   "execution_count": 8,
   "metadata": {},
   "outputs": [
    {
     "data": {
      "text/html": [
       "<div>\n",
       "<style scoped>\n",
       "    .dataframe tbody tr th:only-of-type {\n",
       "        vertical-align: middle;\n",
       "    }\n",
       "\n",
       "    .dataframe tbody tr th {\n",
       "        vertical-align: top;\n",
       "    }\n",
       "\n",
       "    .dataframe thead th {\n",
       "        text-align: right;\n",
       "    }\n",
       "</style>\n",
       "<table border=\"1\" class=\"dataframe\">\n",
       "  <thead>\n",
       "    <tr style=\"text-align: right;\">\n",
       "      <th></th>\n",
       "      <th>EXPERIENCE</th>\n",
       "      <th>HT</th>\n",
       "      <th>WT</th>\n",
       "      <th>SALARY</th>\n",
       "      <th>PPG_LAST_SEASON</th>\n",
       "      <th>APG_LAST_SEASON</th>\n",
       "      <th>RPG_LAST_SEASON</th>\n",
       "      <th>PER_LAST_SEASON</th>\n",
       "      <th>PPG_CAREER</th>\n",
       "      <th>APG_CAREER</th>\n",
       "      <th>...</th>\n",
       "      <th>GP</th>\n",
       "      <th>MPG</th>\n",
       "      <th>FGP</th>\n",
       "      <th>THP</th>\n",
       "      <th>FTP</th>\n",
       "      <th>APG</th>\n",
       "      <th>BLKPG</th>\n",
       "      <th>STLPG</th>\n",
       "      <th>TOPG</th>\n",
       "      <th>PPG</th>\n",
       "    </tr>\n",
       "  </thead>\n",
       "  <tbody>\n",
       "    <tr>\n",
       "      <th>count</th>\n",
       "      <td>440.000000</td>\n",
       "      <td>440.000000</td>\n",
       "      <td>440.000000</td>\n",
       "      <td>4.400000e+02</td>\n",
       "      <td>436.000000</td>\n",
       "      <td>436.000000</td>\n",
       "      <td>436.000000</td>\n",
       "      <td>436.000000</td>\n",
       "      <td>440.000000</td>\n",
       "      <td>440.000000</td>\n",
       "      <td>...</td>\n",
       "      <td>440.000000</td>\n",
       "      <td>440.000000</td>\n",
       "      <td>440.000000</td>\n",
       "      <td>440.000000</td>\n",
       "      <td>440.000000</td>\n",
       "      <td>440.000000</td>\n",
       "      <td>440.000000</td>\n",
       "      <td>440.000000</td>\n",
       "      <td>440.000000</td>\n",
       "      <td>440.000000</td>\n",
       "    </tr>\n",
       "    <tr>\n",
       "      <th>mean</th>\n",
       "      <td>4.836364</td>\n",
       "      <td>201.012136</td>\n",
       "      <td>99.085932</td>\n",
       "      <td>7.790095e+06</td>\n",
       "      <td>8.801606</td>\n",
       "      <td>3.204817</td>\n",
       "      <td>2.041972</td>\n",
       "      <td>12.558165</td>\n",
       "      <td>8.383409</td>\n",
       "      <td>3.162500</td>\n",
       "      <td>...</td>\n",
       "      <td>306.943182</td>\n",
       "      <td>19.799318</td>\n",
       "      <td>0.400973</td>\n",
       "      <td>0.265864</td>\n",
       "      <td>0.651170</td>\n",
       "      <td>1.794545</td>\n",
       "      <td>0.407273</td>\n",
       "      <td>0.650227</td>\n",
       "      <td>1.134773</td>\n",
       "      <td>8.383409</td>\n",
       "    </tr>\n",
       "    <tr>\n",
       "      <th>std</th>\n",
       "      <td>4.200070</td>\n",
       "      <td>8.574265</td>\n",
       "      <td>10.808057</td>\n",
       "      <td>7.987297e+06</td>\n",
       "      <td>6.447391</td>\n",
       "      <td>2.828996</td>\n",
       "      <td>1.884213</td>\n",
       "      <td>6.604998</td>\n",
       "      <td>5.679762</td>\n",
       "      <td>2.679523</td>\n",
       "      <td>...</td>\n",
       "      <td>291.215220</td>\n",
       "      <td>10.170661</td>\n",
       "      <td>0.159981</td>\n",
       "      <td>0.150683</td>\n",
       "      <td>0.264342</td>\n",
       "      <td>1.698295</td>\n",
       "      <td>0.424202</td>\n",
       "      <td>0.431293</td>\n",
       "      <td>0.798914</td>\n",
       "      <td>5.679762</td>\n",
       "    </tr>\n",
       "    <tr>\n",
       "      <th>min</th>\n",
       "      <td>0.000000</td>\n",
       "      <td>175.260000</td>\n",
       "      <td>76.920000</td>\n",
       "      <td>8.384640e+05</td>\n",
       "      <td>0.000000</td>\n",
       "      <td>0.000000</td>\n",
       "      <td>0.000000</td>\n",
       "      <td>-3.190000</td>\n",
       "      <td>0.000000</td>\n",
       "      <td>0.000000</td>\n",
       "      <td>...</td>\n",
       "      <td>0.000000</td>\n",
       "      <td>0.000000</td>\n",
       "      <td>0.000000</td>\n",
       "      <td>0.000000</td>\n",
       "      <td>0.000000</td>\n",
       "      <td>0.000000</td>\n",
       "      <td>0.000000</td>\n",
       "      <td>0.000000</td>\n",
       "      <td>0.000000</td>\n",
       "      <td>0.000000</td>\n",
       "    </tr>\n",
       "    <tr>\n",
       "      <th>25%</th>\n",
       "      <td>1.000000</td>\n",
       "      <td>195.580000</td>\n",
       "      <td>90.500000</td>\n",
       "      <td>1.621181e+06</td>\n",
       "      <td>4.100000</td>\n",
       "      <td>1.000000</td>\n",
       "      <td>0.475000</td>\n",
       "      <td>9.425000</td>\n",
       "      <td>4.675000</td>\n",
       "      <td>1.100000</td>\n",
       "      <td>...</td>\n",
       "      <td>65.500000</td>\n",
       "      <td>14.775000</td>\n",
       "      <td>0.405750</td>\n",
       "      <td>0.195500</td>\n",
       "      <td>0.648250</td>\n",
       "      <td>0.700000</td>\n",
       "      <td>0.100000</td>\n",
       "      <td>0.400000</td>\n",
       "      <td>0.600000</td>\n",
       "      <td>4.675000</td>\n",
       "    </tr>\n",
       "    <tr>\n",
       "      <th>50%</th>\n",
       "      <td>4.000000</td>\n",
       "      <td>200.660000</td>\n",
       "      <td>99.325000</td>\n",
       "      <td>4.335250e+06</td>\n",
       "      <td>7.900000</td>\n",
       "      <td>2.500000</td>\n",
       "      <td>1.650000</td>\n",
       "      <td>13.145000</td>\n",
       "      <td>7.600000</td>\n",
       "      <td>2.400000</td>\n",
       "      <td>...</td>\n",
       "      <td>223.500000</td>\n",
       "      <td>21.250000</td>\n",
       "      <td>0.440000</td>\n",
       "      <td>0.332000</td>\n",
       "      <td>0.750000</td>\n",
       "      <td>1.300000</td>\n",
       "      <td>0.300000</td>\n",
       "      <td>0.600000</td>\n",
       "      <td>1.000000</td>\n",
       "      <td>7.600000</td>\n",
       "    </tr>\n",
       "    <tr>\n",
       "      <th>75%</th>\n",
       "      <td>7.250000</td>\n",
       "      <td>208.280000</td>\n",
       "      <td>107.240000</td>\n",
       "      <td>1.170673e+07</td>\n",
       "      <td>12.800000</td>\n",
       "      <td>4.725000</td>\n",
       "      <td>3.100000</td>\n",
       "      <td>16.492500</td>\n",
       "      <td>11.825000</td>\n",
       "      <td>4.800000</td>\n",
       "      <td>...</td>\n",
       "      <td>482.250000</td>\n",
       "      <td>27.725000</td>\n",
       "      <td>0.477250</td>\n",
       "      <td>0.364250</td>\n",
       "      <td>0.802000</td>\n",
       "      <td>2.400000</td>\n",
       "      <td>0.525000</td>\n",
       "      <td>0.900000</td>\n",
       "      <td>1.525000</td>\n",
       "      <td>11.825000</td>\n",
       "    </tr>\n",
       "    <tr>\n",
       "      <th>max</th>\n",
       "      <td>20.000000</td>\n",
       "      <td>220.980000</td>\n",
       "      <td>131.220000</td>\n",
       "      <td>3.745715e+07</td>\n",
       "      <td>30.400000</td>\n",
       "      <td>16.000000</td>\n",
       "      <td>12.300000</td>\n",
       "      <td>29.870000</td>\n",
       "      <td>27.200000</td>\n",
       "      <td>13.400000</td>\n",
       "      <td>...</td>\n",
       "      <td>1471.000000</td>\n",
       "      <td>38.800000</td>\n",
       "      <td>0.731000</td>\n",
       "      <td>1.000000</td>\n",
       "      <td>1.000000</td>\n",
       "      <td>9.800000</td>\n",
       "      <td>2.400000</td>\n",
       "      <td>2.300000</td>\n",
       "      <td>4.000000</td>\n",
       "      <td>27.200000</td>\n",
       "    </tr>\n",
       "  </tbody>\n",
       "</table>\n",
       "<p>8 rows × 21 columns</p>\n",
       "</div>"
      ],
      "text/plain": [
       "       EXPERIENCE          HT          WT        SALARY  PPG_LAST_SEASON  \\\n",
       "count  440.000000  440.000000  440.000000  4.400000e+02       436.000000   \n",
       "mean     4.836364  201.012136   99.085932  7.790095e+06         8.801606   \n",
       "std      4.200070    8.574265   10.808057  7.987297e+06         6.447391   \n",
       "min      0.000000  175.260000   76.920000  8.384640e+05         0.000000   \n",
       "25%      1.000000  195.580000   90.500000  1.621181e+06         4.100000   \n",
       "50%      4.000000  200.660000   99.325000  4.335250e+06         7.900000   \n",
       "75%      7.250000  208.280000  107.240000  1.170673e+07        12.800000   \n",
       "max     20.000000  220.980000  131.220000  3.745715e+07        30.400000   \n",
       "\n",
       "       APG_LAST_SEASON  RPG_LAST_SEASON  PER_LAST_SEASON  PPG_CAREER  \\\n",
       "count       436.000000       436.000000       436.000000  440.000000   \n",
       "mean          3.204817         2.041972        12.558165    8.383409   \n",
       "std           2.828996         1.884213         6.604998    5.679762   \n",
       "min           0.000000         0.000000        -3.190000    0.000000   \n",
       "25%           1.000000         0.475000         9.425000    4.675000   \n",
       "50%           2.500000         1.650000        13.145000    7.600000   \n",
       "75%           4.725000         3.100000        16.492500   11.825000   \n",
       "max          16.000000        12.300000        29.870000   27.200000   \n",
       "\n",
       "       APG_CAREER  ...           GP         MPG         FGP         THP  \\\n",
       "count  440.000000  ...   440.000000  440.000000  440.000000  440.000000   \n",
       "mean     3.162500  ...   306.943182   19.799318    0.400973    0.265864   \n",
       "std      2.679523  ...   291.215220   10.170661    0.159981    0.150683   \n",
       "min      0.000000  ...     0.000000    0.000000    0.000000    0.000000   \n",
       "25%      1.100000  ...    65.500000   14.775000    0.405750    0.195500   \n",
       "50%      2.400000  ...   223.500000   21.250000    0.440000    0.332000   \n",
       "75%      4.800000  ...   482.250000   27.725000    0.477250    0.364250   \n",
       "max     13.400000  ...  1471.000000   38.800000    0.731000    1.000000   \n",
       "\n",
       "              FTP         APG       BLKPG       STLPG        TOPG         PPG  \n",
       "count  440.000000  440.000000  440.000000  440.000000  440.000000  440.000000  \n",
       "mean     0.651170    1.794545    0.407273    0.650227    1.134773    8.383409  \n",
       "std      0.264342    1.698295    0.424202    0.431293    0.798914    5.679762  \n",
       "min      0.000000    0.000000    0.000000    0.000000    0.000000    0.000000  \n",
       "25%      0.648250    0.700000    0.100000    0.400000    0.600000    4.675000  \n",
       "50%      0.750000    1.300000    0.300000    0.600000    1.000000    7.600000  \n",
       "75%      0.802000    2.400000    0.525000    0.900000    1.525000   11.825000  \n",
       "max      1.000000    9.800000    2.400000    2.300000    4.000000   27.200000  \n",
       "\n",
       "[8 rows x 21 columns]"
      ]
     },
     "execution_count": 8,
     "metadata": {},
     "output_type": "execute_result"
    }
   ],
   "source": [
    "dados_preproc.describe()"
   ]
  },
  {
   "cell_type": "code",
   "execution_count": 9,
   "metadata": {},
   "outputs": [
    {
     "data": {
      "image/png": "[encoded data removed]",
      "text/plain": [
       "<Figure size 1440x1080 with 25 Axes>"
      ]
     },
     "metadata": {
      "needs_background": "light"
     },
     "output_type": "display_data"
    }
   ],
   "source": [
    "g = dados_preproc.hist(bins=50, figsize=(20,15)) # Histograms"
   ]
  },
  {
   "cell_type": "markdown",
   "metadata": {},
   "source": [
    "#### Análise de Performance Individual"
   ]
  },
  {
   "cell_type": "markdown",
   "metadata": {},
   "source": [
    "##### Variáveis que melhor explicam o salário:"
   ]
  },
  {
   "cell_type": "code",
   "execution_count": 14,
   "metadata": {},
   "outputs": [
    {
     "data": {
      "image/png": "[encoded data removed]",
      "text/plain": [
       "<Figure size 288x288 with 2 Axes>"
      ]
     },
     "metadata": {
      "needs_background": "light"
     },
     "output_type": "display_data"
    }
   ],
   "source": [
    "corr_matrix = dados_preproc.corr()\n",
    "cm=plt.get_cmap('jet') # viridis,inferno,plasma\n",
    "columns=list(corr_matrix.columns)\n",
    "g=plt.matshow(corr_matrix,cmap=cm)\n",
    "\n",
    "cbar=plt.colorbar()\n",
    "cbar.ax.set_ylabel('r')\n",
    "ax = plt.gca() # get the current axes\n",
    "ax.set_xticks(range(len(columns)))\n",
    "ax.set_yticks(range(len(columns)))\n",
    "ax.set_xticklabels(columns)\n",
    "ax.set_yticklabels(columns)\n",
    "\n",
    "# Rotate the tick labels and set their alignment\n",
    "r=plt.setp(ax.get_xticklabels(), rotation=45, ha=\"left\", rotation_mode=\"anchor\")"
   ]
  },
  {
   "cell_type": "code",
   "execution_count": 16,
   "metadata": {},
   "outputs": [
    {
     "data": {
      "text/plain": [
       "SALARY             1.000000\n",
       "PPG_LAST_SEASON    0.655676\n",
       "PPG                0.637857\n",
       "PPG_CAREER         0.637857\n",
       "MPG                0.585688\n",
       "TOPG               0.553108\n",
       "STLPG              0.532473\n",
       "APG_LAST_SEASON    0.522945\n",
       "PER_LAST_SEASON    0.504795\n",
       "APG_CAREER         0.496936\n",
       "GP                 0.491710\n",
       "APG                0.464909\n",
       "EXPERIENCE         0.460116\n",
       "RPG_LAST_SEASON    0.360474\n",
       "RGP_CAREER         0.357432\n",
       "BLKPG              0.351777\n",
       "FGP                0.295773\n",
       "FTP                0.291781\n",
       "THP                0.260267\n",
       "WT                 0.126763\n",
       "HT                 0.043632\n",
       "Name: SALARY, dtype: float64"
      ]
     },
     "execution_count": 16,
     "metadata": {},
     "output_type": "execute_result"
    }
   ],
   "source": [
    "corr_matrix['SALARY'].sort_values(ascending=False)"
   ]
  },
  {
   "cell_type": "code",
   "execution_count": null,
   "metadata": {},
   "outputs": [],
   "source": []
  }
 ],
 "metadata": {
  "kernelspec": {
   "display_name": "Python 3.8.1 64-bit ('personal': conda)",
   "language": "python",
   "name": "python38164bitpersonalcondac2925bde5bc24106b6a28a879d495a7b"
  },
  "language_info": {
   "codemirror_mode": {
    "name": "ipython",
    "version": 3
   },
   "file_extension": ".py",
   "mimetype": "text/x-python",
   "name": "python",
   "nbconvert_exporter": "python",
   "pygments_lexer": "ipython3",
   "version": "3.8.1"
  }
 },
 "nbformat": 4,
 "nbformat_minor": 4
}
